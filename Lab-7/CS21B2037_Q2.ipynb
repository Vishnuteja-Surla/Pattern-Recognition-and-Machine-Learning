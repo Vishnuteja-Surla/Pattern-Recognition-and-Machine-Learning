{
 "cells": [
  {
   "cell_type": "markdown",
   "source": [
    "## Importing Libraries"
   ],
   "metadata": {
    "collapsed": false
   }
  },
  {
   "cell_type": "code",
   "execution_count": 42,
   "outputs": [],
   "source": [
    "import numpy as np\n",
    "import pandas as pd\n",
    "import matplotlib.pyplot as plt"
   ],
   "metadata": {
    "collapsed": false
   }
  },
  {
   "cell_type": "markdown",
   "source": [
    "## Defining Functions and Classes"
   ],
   "metadata": {
    "collapsed": false
   }
  },
  {
   "cell_type": "code",
   "execution_count": 43,
   "outputs": [],
   "source": [
    "class BayesClassifier:\n",
    "    def __init__(self):\n",
    "        pass\n",
    "\n",
    "    def fit(self, X_train, y_train):\n",
    "        self.classes, self.class_counts = np.unique(y_train, return_counts=True)\n",
    "        self.no_of_classes = len(self.classes)\n",
    "        self.total_data_points = len(y_train)\n",
    "        self.apriori_probabilities = self.class_counts/self.total_data_points\n",
    "        self.class_split_training_data = {}\n",
    "        for c in self.classes:\n",
    "            self.class_split_training_data[c] = []\n",
    "            for j in range(len(y_train)):\n",
    "                if c == y_train[j]:\n",
    "                    self.class_split_training_data[c].append(X_train[j])\n",
    "            self.class_split_training_data[c] = np.array(self.class_split_training_data[c])\n",
    "        self.mean_vectors = []\n",
    "        for c in self.classes:\n",
    "            self.mean_vectors.append(np.mean(self.class_split_training_data[c], axis = 0))\n",
    "        self.covariance_matrices = []\n",
    "        for c in self.classes:\n",
    "            self.covariance_matrices.append(np.cov(self.class_split_training_data[c], rowvar=False))\n",
    "        self.inverse_covariance_matrices = []\n",
    "        for c in range(len(self.classes)):\n",
    "            self.inverse_covariance_matrices.append(np.linalg.inv(self.covariance_matrices[c]))\n",
    "        self.dimensions = len(X_train[0])\n",
    "        self.det_covariance_matrices = []\n",
    "        for c in range(len(self.classes)):\n",
    "            self.det_covariance_matrices.append(np.linalg.det(self.covariance_matrices[c]))\n",
    "\n",
    "    def predict(self, X_test):\n",
    "        y_pred = []\n",
    "        for X in X_test:\n",
    "            probability_values = {}\n",
    "            class_count = 0\n",
    "            for c in self.classes:\n",
    "                p_xw = np.exp(-0.5 * np.dot(np.dot((X - self.mean_vectors[class_count]).T, self.inverse_covariance_matrices[class_count]), (X - self.mean_vectors[class_count]))) / (((2 * np.pi) ** (self.dimensions / 2)) * np.sqrt(self.det_covariance_matrices[class_count]))\n",
    "                p_wx = p_xw * self.apriori_probabilities[class_count]\n",
    "                probability_values[c] = p_wx\n",
    "                class_count += 1\n",
    "            y_pred.append(max(probability_values, key=probability_values.get))\n",
    "        y_pred = np.array(y_pred)\n",
    "        return y_pred\n",
    "\n",
    "    def decision_boundary(self, X_train , ap_values):\n",
    "        x_min, x_max = X_train[:, 0].min() - 1, X_train[:, 0].max() + 1\n",
    "        y_min, y_max = X_train[:, 1].min() - 1, X_train[:, 1].max() + 1\n",
    "        xx, yy = np.meshgrid(np.arange(x_min, x_max, 1), np.arange(y_min, y_max, 1))\n",
    "        y_pred = []\n",
    "        for i in range(len(xx)):\n",
    "            y_row = []\n",
    "            for j in range(len(yy[0])):\n",
    "                X = np.array([xx[i, j], yy[i, j]])\n",
    "                probability_values = {}\n",
    "                class_count = 0\n",
    "                for c in self.classes:\n",
    "                    p_xw = np.exp(-0.5 * np.dot(np.dot((X - self.mean_vectors[class_count]).T, self.inverse_covariance_matrices[class_count]), (X - self.mean_vectors[class_count]))) / (((2 * np.pi) ** (self.dimensions / 2)) * np.sqrt(self.det_covariance_matrices[class_count]))\n",
    "                    p_wx = p_xw * ap_values[class_count]\n",
    "                    probability_values[c] = p_wx\n",
    "                    class_count += 1\n",
    "                y_row.append(max(probability_values, key=probability_values.get))\n",
    "            y_pred.append(y_row)\n",
    "        y_pred = np.array(y_pred)\n",
    "        return y_pred"
   ],
   "metadata": {
    "collapsed": false
   }
  },
  {
   "cell_type": "markdown",
   "source": [
    "## Taking Data"
   ],
   "metadata": {
    "collapsed": false
   }
  },
  {
   "cell_type": "code",
   "execution_count": 44,
   "outputs": [],
   "source": [
    "X1 = np.array([[1,-1], [2,-5], [3,-6], [4,-10], [5,-12], [6,-15]])\n",
    "X2 = np.array([[-1,1], [-2,5], [-3,6], [-4,10], [-5,12], [-6, 15]])\n",
    "y1 = np.zeros(len(X1), dtype=int)\n",
    "y2 = np.ones(len(X2), dtype=int)"
   ],
   "metadata": {
    "collapsed": false
   }
  },
  {
   "cell_type": "code",
   "execution_count": 45,
   "outputs": [
    {
     "name": "stdout",
     "output_type": "stream",
     "text": [
      "[[  1  -1]\n",
      " [  2  -5]\n",
      " [  3  -6]\n",
      " [  4 -10]\n",
      " [  5 -12]\n",
      " [  6 -15]]\n"
     ]
    }
   ],
   "source": [
    "print(X1)"
   ],
   "metadata": {
    "collapsed": false
   }
  },
  {
   "cell_type": "code",
   "execution_count": 46,
   "outputs": [
    {
     "name": "stdout",
     "output_type": "stream",
     "text": [
      "[[-1  1]\n",
      " [-2  5]\n",
      " [-3  6]\n",
      " [-4 10]\n",
      " [-5 12]\n",
      " [-6 15]]\n"
     ]
    }
   ],
   "source": [
    "print(X2)"
   ],
   "metadata": {
    "collapsed": false
   }
  },
  {
   "cell_type": "code",
   "execution_count": 47,
   "outputs": [
    {
     "name": "stdout",
     "output_type": "stream",
     "text": [
      "[0 0 0 0 0 0]\n"
     ]
    }
   ],
   "source": [
    "print(y1)"
   ],
   "metadata": {
    "collapsed": false
   }
  },
  {
   "cell_type": "code",
   "execution_count": 48,
   "outputs": [
    {
     "name": "stdout",
     "output_type": "stream",
     "text": [
      "[1 1 1 1 1 1]\n"
     ]
    }
   ],
   "source": [
    "print(y2)"
   ],
   "metadata": {
    "collapsed": false
   }
  },
  {
   "cell_type": "code",
   "execution_count": 49,
   "outputs": [],
   "source": [
    "X_train = np.concatenate((X1, X2), axis=0)\n",
    "y_train = np.concatenate((y1, y2), axis=0)"
   ],
   "metadata": {
    "collapsed": false
   }
  },
  {
   "cell_type": "code",
   "execution_count": 50,
   "outputs": [
    {
     "name": "stdout",
     "output_type": "stream",
     "text": [
      "[[  1  -1]\n",
      " [  2  -5]\n",
      " [  3  -6]\n",
      " [  4 -10]\n",
      " [  5 -12]\n",
      " [  6 -15]\n",
      " [ -1   1]\n",
      " [ -2   5]\n",
      " [ -3   6]\n",
      " [ -4  10]\n",
      " [ -5  12]\n",
      " [ -6  15]]\n"
     ]
    }
   ],
   "source": [
    "print(X_train)"
   ],
   "metadata": {
    "collapsed": false
   }
  },
  {
   "cell_type": "code",
   "execution_count": 51,
   "outputs": [
    {
     "name": "stdout",
     "output_type": "stream",
     "text": [
      "[0 0 0 0 0 0 1 1 1 1 1 1]\n"
     ]
    }
   ],
   "source": [
    "print(y_train)"
   ],
   "metadata": {
    "collapsed": false
   }
  },
  {
   "cell_type": "markdown",
   "source": [
    "## Modelling the Data"
   ],
   "metadata": {
    "collapsed": false
   }
  },
  {
   "cell_type": "code",
   "execution_count": 52,
   "outputs": [],
   "source": [
    "bc = BayesClassifier()\n",
    "bc.fit(X_train, y_train)"
   ],
   "metadata": {
    "collapsed": false
   }
  },
  {
   "cell_type": "code",
   "execution_count": 53,
   "outputs": [],
   "source": [
    "Z = bc.decision_boundary(X_train, [0.5, 0.5])"
   ],
   "metadata": {
    "collapsed": false
   }
  },
  {
   "cell_type": "markdown",
   "source": [
    "## Plotting"
   ],
   "metadata": {
    "collapsed": false
   }
  },
  {
   "cell_type": "code",
   "execution_count": 54,
   "outputs": [],
   "source": [
    "x_min, x_max = X_train[:, 0].min() - 1, X_train[:, 0].max() + 1\n",
    "y_min, y_max = X_train[:, 1].min() - 1, X_train[:, 1].max() + 1\n",
    "xx, yy = np.meshgrid(np.arange(x_min, x_max, 1), np.arange(y_min, y_max, 1))"
   ],
   "metadata": {
    "collapsed": false
   }
  },
  {
   "cell_type": "code",
   "execution_count": 55,
   "outputs": [
    {
     "data": {
      "text/plain": "<Figure size 640x480 with 1 Axes>",
      "image/png": "[encoded data removed]"
     },
     "metadata": {},
     "output_type": "display_data"
    }
   ],
   "source": [
    "plt.contourf(xx, yy, Z, cmap=plt.cm.RdBu, alpha=0.8)\n",
    "plt.scatter(X_train[:, 0], X_train[:, 1], c=y_train, cmap=plt.cm.RdBu, edgecolor='k')\n",
    "plt.xlabel('Feature 1')\n",
    "plt.ylabel('Feature 2')\n",
    "plt.title('Naive Bayes Decision Boundaries')\n",
    "plt.show()"
   ],
   "metadata": {
    "collapsed": false
   }
  }
 ],
 "metadata": {
  "kernelspec": {
   "display_name": "Python 3",
   "language": "python",
   "name": "python3"
  },
  "language_info": {
   "codemirror_mode": {
    "name": "ipython",
    "version": 2
   },
   "file_extension": ".py",
   "mimetype": "text/x-python",
   "name": "python",
   "nbconvert_exporter": "python",
   "pygments_lexer": "ipython2",
   "version": "2.7.6"
  }
 },
 "nbformat": 4,
 "nbformat_minor": 0
}
