{
 "cells": [
  {
   "cell_type": "markdown",
   "source": [
    "## Compare two text files doc1.txt and doc2.txt using cosine distance.\n",
    "## doc1.txt\n",
    "## “ MATLAB is a program for solving engineering and mathematical problems. The basic MATLAB objects are vectors and matrices, so you must be familiar with these before making extensive use of this program.”\n",
    "## doc2.txt\n",
    "## “MATLAB works with essentially one kind of object, a rectangular numerical matrix. Here is some basic information on using MATLAB matrix commands.”\n"
   ],
   "metadata": {
    "collapsed": false
   }
  },
  {
   "cell_type": "markdown",
   "source": [
    "### Importing Libraries"
   ],
   "metadata": {
    "collapsed": false
   }
  },
  {
   "cell_type": "code",
   "execution_count": 188,
   "outputs": [],
   "source": [
    "import numpy as np"
   ],
   "metadata": {
    "collapsed": false
   }
  },
  {
   "cell_type": "markdown",
   "source": [
    "Functions"
   ],
   "metadata": {
    "collapsed": false
   }
  },
  {
   "cell_type": "code",
   "execution_count": 189,
   "outputs": [],
   "source": [
    "def cosine_distance(f1, f2):\n",
    "    d1 = np.sqrt(np.sum(np.square(f1)))\n",
    "    d2 = np.sqrt(np.sum(np.square(f2)))\n",
    "    return 1 - np.sum(f1*f2)/(d1*d2)"
   ],
   "metadata": {
    "collapsed": false
   }
  },
  {
   "cell_type": "markdown",
   "source": [
    "### Main"
   ],
   "metadata": {
    "collapsed": false
   }
  },
  {
   "cell_type": "markdown",
   "source": [
    "Getting Data"
   ],
   "metadata": {
    "collapsed": false
   }
  },
  {
   "cell_type": "code",
   "execution_count": 190,
   "outputs": [],
   "source": [
    "file1_name = \"doc1.txt\"\n",
    "file2_name = \"doc2.txt\""
   ],
   "metadata": {
    "collapsed": false
   }
  },
  {
   "cell_type": "code",
   "execution_count": 191,
   "outputs": [],
   "source": [
    "file1 = open(file1_name, 'r')\n",
    "file2 = open(file2_name, 'r')\n",
    "file1_text = file1.read()\n",
    "file2_text = file2.read()"
   ],
   "metadata": {
    "collapsed": false
   }
  },
  {
   "cell_type": "code",
   "execution_count": 192,
   "outputs": [
    {
     "name": "stdout",
     "output_type": "stream",
     "text": [
      "“ MATLAB is a program for solving engineering and mathematical problems. The basic MATLAB objects are vectors and matrices, so you must be familiar with these before making extensive use of this program.”\n",
      "\n"
     ]
    }
   ],
   "source": [
    "print(file1_text)"
   ],
   "metadata": {
    "collapsed": false
   }
  },
  {
   "cell_type": "code",
   "execution_count": 193,
   "outputs": [
    {
     "name": "stdout",
     "output_type": "stream",
     "text": [
      "“MATLAB works with essentially one kind of object, a rectangular numerical matrix. Here is some basic information on using MATLAB matrix commands.”\n",
      "\n"
     ]
    }
   ],
   "source": [
    "print(file2_text)"
   ],
   "metadata": {
    "collapsed": false
   }
  },
  {
   "cell_type": "markdown",
   "source": [
    "Vectorizing the text"
   ],
   "metadata": {
    "collapsed": false
   }
  },
  {
   "cell_type": "code",
   "execution_count": 194,
   "outputs": [],
   "source": [
    "text = [file1_text, file2_text]"
   ],
   "metadata": {
    "collapsed": false
   }
  },
  {
   "cell_type": "code",
   "execution_count": 195,
   "outputs": [
    {
     "data": {
      "text/plain": "CountVectorizer()"
     },
     "execution_count": 195,
     "metadata": {},
     "output_type": "execute_result"
    }
   ],
   "source": [
    "from sklearn.feature_extraction.text import CountVectorizer\n",
    "count_vect = CountVectorizer()\n",
    "count_vect.fit(text)"
   ],
   "metadata": {
    "collapsed": false
   }
  },
  {
   "cell_type": "code",
   "execution_count": 196,
   "outputs": [],
   "source": [
    "vector = count_vect.transform(text)"
   ],
   "metadata": {
    "collapsed": false
   }
  },
  {
   "cell_type": "code",
   "execution_count": 197,
   "outputs": [
    {
     "name": "stdout",
     "output_type": "stream",
     "text": [
      "Vocabulary : {'matlab': 17, 'is': 13, 'program': 28, 'for': 10, 'solving': 31, 'engineering': 6, 'and': 0, 'mathematical': 16, 'problems': 27, 'the': 33, 'basic': 2, 'objects': 23, 'are': 1, 'vectors': 38, 'matrices': 18, 'so': 30, 'you': 41, 'must': 20, 'be': 3, 'familiar': 9, 'with': 39, 'these': 34, 'before': 4, 'making': 15, 'extensive': 8, 'use': 36, 'of': 24, 'this': 35, 'works': 40, 'essentially': 7, 'one': 26, 'kind': 14, 'object': 22, 'rectangular': 29, 'numerical': 21, 'matrix': 19, 'here': 11, 'some': 32, 'information': 12, 'on': 25, 'using': 37, 'commands': 5}\n"
     ]
    }
   ],
   "source": [
    "print(f\"Vocabulary : {count_vect.vocabulary_}\")"
   ],
   "metadata": {
    "collapsed": false
   }
  },
  {
   "cell_type": "code",
   "execution_count": 198,
   "outputs": [],
   "source": [
    "encoded_text = vector.toarray()"
   ],
   "metadata": {
    "collapsed": false
   }
  },
  {
   "cell_type": "code",
   "execution_count": 199,
   "outputs": [
    {
     "name": "stdout",
     "output_type": "stream",
     "text": [
      "[[2 1 1 1 1 0 1 0 1 1 1 0 0 1 0 1 1 2 1 0 1 0 0 1 1 0 0 1 2 0 1 1 0 1 1 1\n",
      "  1 0 1 1 0 1]\n",
      " [0 0 1 0 0 1 0 1 0 0 0 1 1 1 1 0 0 2 0 2 0 1 1 0 1 1 1 0 0 1 0 0 1 0 0 0\n",
      "  0 1 0 1 1 0]]\n"
     ]
    }
   ],
   "source": [
    "print(encoded_text)"
   ],
   "metadata": {
    "collapsed": false
   }
  },
  {
   "cell_type": "code",
   "execution_count": 200,
   "outputs": [],
   "source": [
    "H1 = np.array(encoded_text[0])\n",
    "H2 = np.array(encoded_text[1])"
   ],
   "metadata": {
    "collapsed": false
   }
  },
  {
   "cell_type": "code",
   "execution_count": 201,
   "outputs": [
    {
     "name": "stdout",
     "output_type": "stream",
     "text": [
      "[2 1 1 1 1 0 1 0 1 1 1 0 0 1 0 1 1 2 1 0 1 0 0 1 1 0 0 1 2 0 1 1 0 1 1 1 1\n",
      " 0 1 1 0 1]\n"
     ]
    }
   ],
   "source": [
    "print(H1)"
   ],
   "metadata": {
    "collapsed": false
   }
  },
  {
   "cell_type": "code",
   "execution_count": 202,
   "outputs": [
    {
     "name": "stdout",
     "output_type": "stream",
     "text": [
      "[0 0 1 0 0 1 0 1 0 0 0 1 1 1 1 0 0 2 0 2 0 1 1 0 1 1 1 0 0 1 0 0 1 0 0 0 0\n",
      " 1 0 1 1 0]\n"
     ]
    }
   ],
   "source": [
    "print(H2)"
   ],
   "metadata": {
    "collapsed": false
   }
  },
  {
   "cell_type": "markdown",
   "source": [
    "Cosine Distance"
   ],
   "metadata": {
    "collapsed": false
   }
  },
  {
   "cell_type": "code",
   "execution_count": 203,
   "outputs": [
    {
     "name": "stdout",
     "output_type": "stream",
     "text": [
      "The Cosine Distance between File-1 and File-2 is 0.7369616203114283\n"
     ]
    }
   ],
   "source": [
    "print(f\"The Cosine Distance between File-1 and File-2 is {cosine_distance(H1, H2)}\")"
   ],
   "metadata": {
    "collapsed": false
   }
  }
 ],
 "metadata": {
  "kernelspec": {
   "display_name": "Python 3",
   "language": "python",
   "name": "python3"
  },
  "language_info": {
   "codemirror_mode": {
    "name": "ipython",
    "version": 2
   },
   "file_extension": ".py",
   "mimetype": "text/x-python",
   "name": "python",
   "nbconvert_exporter": "python",
   "pygments_lexer": "ipython2",
   "version": "2.7.6"
  }
 },
 "nbformat": 4,
 "nbformat_minor": 0
}
